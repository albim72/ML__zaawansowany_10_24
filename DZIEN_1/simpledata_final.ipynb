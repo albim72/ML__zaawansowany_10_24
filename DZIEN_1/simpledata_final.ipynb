{
 "cells":[
  {
   "cell_type":"code",
   "source":[
    "import pandas as pd\n",
    "import numpy as np\n",
    "import tensorflow as tf"
   ],
   "execution_count":1,
   "outputs":[],
   "metadata":{
    "datalore":{
     "node_id":"HuIHHLS8WoOtctlsOyAgA4",
     "type":"CODE",
     "hide_input_from_viewers":true,
     "hide_output_from_viewers":true
    }
   }
  },
  {
   "cell_type":"markdown",
   "source":[
    "przykład zastosowania **tensorflow** do tworzenia prostej <span style=\"color:red; font-size:14pt;\">sieci neuronowej!<\/span>"
   ],
   "attachments":{},
   "metadata":{
    "datalore":{
     "node_id":"tBtT74NhZtoKYPHFPIyFsT",
     "type":"MD",
     "hide_input_from_viewers":true,
     "hide_output_from_viewers":true
    }
   }
  },
  {
   "cell_type":"code",
   "source":[
    "abalone_train = pd.read_csv(\"http:\/\/storage.googleapis.com\/download.tensorflow.org\/data\/abalone_train.csv\",\n",
    "                            names=[\"Length\",\"Diameter\",\"Height\",\"Whole weight\",\"Shucked weight\",\"Viscera weight\",\"Age\"])"
   ],
   "execution_count":2,
   "outputs":[],
   "metadata":{
    "datalore":{
     "node_id":"QDhK0wK5kvG9tkTLzLqps1",
     "type":"CODE",
     "hide_input_from_viewers":true,
     "hide_output_from_viewers":true
    }
   }
  },
  {
   "cell_type":"code",
   "source":[
    "print(abalone_train.head(7))"
   ],
   "execution_count":3,
   "outputs":[
    {
     "name":"stdout",
     "text":[
      "       Length  Diameter  Height  Whole weight  Shucked weight  Viscera weight  \\\n",
      "0.435   0.335     0.110   0.334        0.1355          0.0775          0.0965   \n",
      "0.585   0.450     0.125   0.874        0.3545          0.2075          0.2250   \n",
      "0.655   0.510     0.160   1.092        0.3960          0.2825          0.3700   \n",
      "0.545   0.425     0.125   0.768        0.2940          0.1495          0.2600   \n",
      "0.545   0.420     0.130   0.879        0.3740          0.1695          0.2300   \n",
      "0.570   0.450     0.145   0.751        0.2825          0.2195          0.2215   \n",
      "0.470   0.360     0.130   0.472        0.1820          0.1140          0.1500   \n",
      "\n",
      "       Age  \n",
      "0.435    7  \n",
      "0.585    6  \n",
      "0.655   14  \n",
      "0.545   16  \n",
      "0.545   13  \n",
      "0.570   10  \n",
      "0.470   10  \n"
     ],
     "output_type":"stream"
    }
   ],
   "metadata":{
    "datalore":{
     "node_id":"x1VKchM04d0nxUKQMSNoyx",
     "type":"CODE",
     "hide_input_from_viewers":true,
     "hide_output_from_viewers":true
    }
   }
  },
  {
   "cell_type":"code",
   "source":[
    "abalone_features = abalone_train.copy()\n",
    "abalone_labels = abalone_features.pop(\"Age\")"
   ],
   "execution_count":4,
   "outputs":[],
   "metadata":{
    "datalore":{
     "node_id":"2g9TXWovOtXpPpzgBYPvH3",
     "type":"CODE",
     "hide_input_from_viewers":true,
     "hide_output_from_viewers":true
    }
   }
  },
  {
   "cell_type":"code",
   "source":[
    "print(abalone_features.head())"
   ],
   "execution_count":5,
   "outputs":[
    {
     "name":"stdout",
     "text":[
      "       Length  Diameter  Height  Whole weight  Shucked weight  Viscera weight\n",
      "0.435   0.335     0.110   0.334        0.1355          0.0775          0.0965\n",
      "0.585   0.450     0.125   0.874        0.3545          0.2075          0.2250\n",
      "0.655   0.510     0.160   1.092        0.3960          0.2825          0.3700\n",
      "0.545   0.425     0.125   0.768        0.2940          0.1495          0.2600\n",
      "0.545   0.420     0.130   0.879        0.3740          0.1695          0.2300\n"
     ],
     "output_type":"stream"
    }
   ],
   "metadata":{
    "datalore":{
     "node_id":"UCn5rcl2XIBR1TSejnOEDW",
     "type":"CODE",
     "hide_input_from_viewers":true,
     "hide_output_from_viewers":true
    }
   }
  },
  {
   "cell_type":"code",
   "source":[
    "abalone_model = tf.keras.Sequential([\n",
    "    tf.keras.layers.Dense(64,activation='relu'),\n",
    "    tf.keras.layers.Dense(1)\n",
    "])"
   ],
   "execution_count":6,
   "outputs":[],
   "metadata":{
    "datalore":{
     "node_id":"3wNzgYMQ04ShV3Q7sEUl92",
     "type":"CODE",
     "hide_input_from_viewers":true,
     "hide_output_from_viewers":true
    }
   }
  },
  {
   "cell_type":"code",
   "source":[
    "#definicja propagacji wstecznej\n",
    "abalone_model.compile(\n",
    "    loss = tf.losses.MeanSquaredError(),\n",
    "    optimizer = tf.optimizers.Adam(),\n",
    "    metrics=['accuracy']\n",
    ")"
   ],
   "execution_count":7,
   "outputs":[],
   "metadata":{
    "datalore":{
     "node_id":"lsqlnV8RiVQLEkBM1VH0H8",
     "type":"CODE",
     "hide_input_from_viewers":true,
     "hide_output_from_viewers":true
    }
   }
  },
  {
   "cell_type":"code",
   "source":[
    "abalone_model.fit(abalone_features,abalone_labels,epochs=10,verbose=2)"
   ],
   "execution_count":8,
   "outputs":[
    {
     "name":"stdout",
     "text":[
      "Epoch 1\/10\n",
      "104\/104 - 1s - loss: 78.0909 - accuracy: 3.0120e-04 - 761ms\/epoch - 7ms\/step\n",
      "Epoch 2\/10\n",
      "104\/104 - 0s - loss: 25.6834 - accuracy: 3.0120e-04 - 137ms\/epoch - 1ms\/step\n",
      "Epoch 3\/10\n",
      "104\/104 - 0s - loss: 9.5610 - accuracy: 3.0120e-04 - 141ms\/epoch - 1ms\/step\n",
      "Epoch 4\/10\n",
      "104\/104 - 0s - loss: 8.5979 - accuracy: 3.0120e-04 - 151ms\/epoch - 1ms\/step\n",
      "Epoch 5\/10\n",
      "104\/104 - 0s - loss: 7.9630 - accuracy: 3.0120e-04 - 134ms\/epoch - 1ms\/step\n",
      "Epoch 6\/10\n",
      "104\/104 - 0s - loss: 7.4406 - accuracy: 3.0120e-04 - 146ms\/epoch - 1ms\/step\n",
      "Epoch 7\/10\n",
      "104\/104 - 0s - loss: 7.0517 - accuracy: 3.0120e-04 - 135ms\/epoch - 1ms\/step\n",
      "Epoch 8\/10\n",
      "104\/104 - 0s - loss: 6.7880 - accuracy: 3.0120e-04 - 155ms\/epoch - 1ms\/step\n",
      "Epoch 9\/10\n",
      "104\/104 - 0s - loss: 6.5783 - accuracy: 3.0120e-04 - 147ms\/epoch - 1ms\/step\n",
      "Epoch 10\/10\n",
      "104\/104 - 0s - loss: 6.4039 - accuracy: 3.0120e-04 - 132ms\/epoch - 1ms\/step\n"
     ],
     "output_type":"stream"
    },
    {
     "data":{
      "text\/plain":[
       "<keras.callbacks.History at 0x7f4edc1f9760>"
      ]
     },
     "metadata":{},
     "output_type":"display_data"
    }
   ],
   "metadata":{
    "datalore":{
     "node_id":"lFUlMPpqjuTMzSim4vwyNE",
     "type":"CODE",
     "hide_input_from_viewers":true,
     "hide_output_from_viewers":true
    }
   }
  }
 ],
 "metadata":{
  "kernelspec":{
   "display_name":"Python",
   "language":"python",
   "name":"python"
  },
  "datalore":{
   "computation_mode":"JUPYTER",
   "package_manager":"pip",
   "base_environment":"default",
   "packages":[],
   "report_row_ids":[],
   "version":3
  }
 },
 "nbformat":4,
 "nbformat_minor":4
}