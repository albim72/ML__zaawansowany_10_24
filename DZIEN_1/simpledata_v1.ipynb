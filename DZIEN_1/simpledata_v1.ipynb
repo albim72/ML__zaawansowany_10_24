{
 "cells":[
  {
   "cell_type":"code",
   "source":[
    "import pandas as pd\n",
    "import numpy as np\n",
    "import tensorflow as tf"
   ],
   "execution_count":1,
   "outputs":[],
   "metadata":{
    "datalore":{
     "node_id":"HuIHHLS8WoOtctlsOyAgA4",
     "type":"CODE",
     "hide_input_from_viewers":true,
     "hide_output_from_viewers":true
    }
   }
  },
  {
   "cell_type":"markdown",
   "source":[
    "przykład zastosowania **tensorflow** do tworzenia prostej <span style=\"color:red; font-size:14pt;\">sieci neuronowej!<\/span>"
   ],
   "attachments":{},
   "metadata":{
    "datalore":{
     "node_id":"tBtT74NhZtoKYPHFPIyFsT",
     "type":"MD",
     "hide_input_from_viewers":true,
     "hide_output_from_viewers":true
    }
   }
  },
  {
   "cell_type":"code",
   "source":[
    "abalone_train = pd.read_csv(\"http:\/\/storage.googleapis.com\/download.tensorflow.org\/data\/abalone_train.csv\",\n",
    "                            names=[\"Length\",\"Diameter\",\"Height\",\"Whole weight\",\"Shucked weight\",\"Viscera weight\",\"Age\"])"
   ],
   "execution_count":4,
   "outputs":[],
   "metadata":{
    "datalore":{
     "node_id":"QDhK0wK5kvG9tkTLzLqps1",
     "type":"CODE",
     "hide_input_from_viewers":true,
     "hide_output_from_viewers":true
    }
   }
  },
  {
   "cell_type":"code",
   "source":[
    "print(abalone_train.head(7))"
   ],
   "execution_count":5,
   "outputs":[
    {
     "name":"stdout",
     "text":[
      "       Length  Diameter  Height  Whole weight  Shucked weight  Viscera weight  \\\n",
      "0.435   0.335     0.110   0.334        0.1355          0.0775          0.0965   \n",
      "0.585   0.450     0.125   0.874        0.3545          0.2075          0.2250   \n",
      "0.655   0.510     0.160   1.092        0.3960          0.2825          0.3700   \n",
      "0.545   0.425     0.125   0.768        0.2940          0.1495          0.2600   \n",
      "0.545   0.420     0.130   0.879        0.3740          0.1695          0.2300   \n",
      "0.570   0.450     0.145   0.751        0.2825          0.2195          0.2215   \n",
      "0.470   0.360     0.130   0.472        0.1820          0.1140          0.1500   \n",
      "\n",
      "       Age  \n",
      "0.435    7  \n",
      "0.585    6  \n",
      "0.655   14  \n",
      "0.545   16  \n",
      "0.545   13  \n",
      "0.570   10  \n",
      "0.470   10  \n"
     ],
     "output_type":"stream"
    }
   ],
   "metadata":{
    "datalore":{
     "node_id":"x1VKchM04d0nxUKQMSNoyx",
     "type":"CODE",
     "hide_input_from_viewers":true,
     "hide_output_from_viewers":true
    }
   }
  },
  {
   "cell_type":"code",
   "source":[
    "abalone_features = abalone_train.copy()\n",
    "abalone_labels = abalone_features.pop(\"Age\")"
   ],
   "execution_count":6,
   "outputs":[],
   "metadata":{
    "datalore":{
     "node_id":"2g9TXWovOtXpPpzgBYPvH3",
     "type":"CODE",
     "hide_input_from_viewers":true,
     "hide_output_from_viewers":true
    }
   }
  },
  {
   "cell_type":"code",
   "source":[
    "print(abalone_features.head())"
   ],
   "execution_count":7,
   "outputs":[
    {
     "name":"stdout",
     "text":[
      "       Length  Diameter  Height  Whole weight  Shucked weight  Viscera weight\n",
      "0.435   0.335     0.110   0.334        0.1355          0.0775          0.0965\n",
      "0.585   0.450     0.125   0.874        0.3545          0.2075          0.2250\n",
      "0.655   0.510     0.160   1.092        0.3960          0.2825          0.3700\n",
      "0.545   0.425     0.125   0.768        0.2940          0.1495          0.2600\n",
      "0.545   0.420     0.130   0.879        0.3740          0.1695          0.2300\n"
     ],
     "output_type":"stream"
    }
   ],
   "metadata":{
    "datalore":{
     "node_id":"UCn5rcl2XIBR1TSejnOEDW",
     "type":"CODE",
     "hide_input_from_viewers":true,
     "hide_output_from_viewers":true
    }
   }
  }
 ],
 "metadata":{
  "kernelspec":{
   "display_name":"Python",
   "language":"python",
   "name":"python"
  },
  "datalore":{
   "computation_mode":"JUPYTER",
   "package_manager":"pip",
   "base_environment":"default",
   "packages":[],
   "report_row_ids":[],
   "version":3
  }
 },
 "nbformat":4,
 "nbformat_minor":4
}