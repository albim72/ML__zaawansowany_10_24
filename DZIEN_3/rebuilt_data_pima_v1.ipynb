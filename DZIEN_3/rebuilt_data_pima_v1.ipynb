{
  "nbformat": 4,
  "nbformat_minor": 0,
  "metadata": {
    "colab": {
      "provenance": []
    },
    "kernelspec": {
      "name": "python3",
      "display_name": "Python 3"
    },
    "language_info": {
      "name": "python"
    }
  },
  "cells": [
    {
      "cell_type": "code",
      "execution_count": 1,
      "metadata": {
        "id": "_19-Dy3cwxaH"
      },
      "outputs": [],
      "source": [
        "import numpy as np\n",
        "import pandas as pd\n",
        "from sklearn.model_selection import train_test_split\n",
        "from sklearn.preprocessing import MinMaxScaler\n",
        "import tensorflow as tf\n",
        "from tensorflow.keras import layers\n",
        "\n"
      ]
    },
    {
      "cell_type": "code",
      "source": [
        "url = \"https://raw.githubusercontent.com/jbrownlee/Datasets/master/pima-indians-diabetes.data.csv\"\n",
        "columns = [\"num_pregnancies\", \"glucose_concentration\", \"blood_pressure\", \"skin_thickness\",\n",
        "           \"insulin\", \"bmi\", \"diabetes_pedigree\", \"age\", \"outcome\"]"
      ],
      "metadata": {
        "id": "5_GZ_2EMxYa2"
      },
      "execution_count": 2,
      "outputs": []
    },
    {
      "cell_type": "code",
      "source": [
        "data = pd.read_csv(url, names=columns)\n",
        "scaler = MinMaxScaler()\n",
        "data_normalized = scaler.fit_transform(data.drop(columns=[\"outcome\"],axis=1))"
      ],
      "metadata": {
        "id": "YwLBPj_gxuEM"
      },
      "execution_count": 3,
      "outputs": []
    },
    {
      "cell_type": "code",
      "source": [],
      "metadata": {
        "id": "A6OGl7Zex-Ai"
      },
      "execution_count": null,
      "outputs": []
    }
  ]
}